{
 "cells": [
  {
   "cell_type": "code",
   "id": "initial_id",
   "metadata": {
    "collapsed": true,
    "ExecuteTime": {
     "end_time": "2024-11-27T15:16:52.361033Z",
     "start_time": "2024-11-27T15:16:52.358416Z"
    }
   },
   "source": [
    "import pandas as pd\n",
    "import matplotlib.pyplot as plt\n",
    "import seaborn as sns"
   ],
   "outputs": [],
   "execution_count": 75
  },
  {
   "metadata": {
    "ExecuteTime": {
     "end_time": "2024-11-27T15:16:52.390275Z",
     "start_time": "2024-11-27T15:16:52.385057Z"
    }
   },
   "cell_type": "code",
   "source": [
    "# definitions\n",
    "def make_waterfall_plot(data: pd.Series, color: str) -> plt.figure:\n",
    "    \"\"\"Given a pd.Series makes a waterfall plot in order of labels given.\"\"\"\n",
    "    diff = data.diff()\n",
    "    diff.iloc[0] = 0\n",
    "    heights = diff.apply(lambda x: abs(x)) # heights of bars\n",
    "    fig, ax = plt.subplots(figsize=(12, 8))\n",
    "    ax.grid(True, alpha=0.5)\n",
    "    bars = ax.bar(x=range(len(data)), height=heights.values, bottom=data.values, width=0.5, edgecolor=color, linewidth=2, color=color)\n",
    "    labels = diff.copy()\n",
    "    labels.iloc[0] = data.iloc[0]\n",
    "    labels.iloc[-1] = data.iloc[-1]\n",
    "    for bar, value in zip(bars, labels.values):\n",
    "        height = bar.get_height()\n",
    "        position = bar.get_y() + height\n",
    "        ax.annotate(f'{int(value)}', xy=(bar.get_x() + bar.get_width() / 2, position),\n",
    "                    xytext=(0, 5), textcoords=\"offset points\",\n",
    "                    ha='center', va='bottom')\n",
    "    ax.set_ylabel('Count')\n",
    "    ax.set_xticks(ticks=range(len(data)))\n",
    "    ax.set_xticklabels(data.keys(), fontsize=12)\n",
    "    ax.set_xticklabels(data.index, rotation=45, ha='right', fontsize=12)\n",
    "    plt.tight_layout()\n",
    "    plt.close(fig)  # Close the figure to prevent displaying multiple times in Jupyter notebook\n",
    "    return fig\n",
    "def make_histogram_plot(data: pd.Series, color: str) -> plt.figure:\n",
    "    \"\"\"Given a pd.Series makes a histogram plot.\"\"\"\n",
    "    fig, ax = plt.subplots(figsize=(12, 8))\n",
    "    ax.grid(True, alpha=0.5)\n",
    "    bars = ax.bar(x=range(len(data)), height=data.values, width=0.5, edgecolor=color, linewidth=2, color=color)\n",
    "    for bar, value in zip(bars, data.values):\n",
    "        height = bar.get_height()\n",
    "        position = bar.get_y() + height\n",
    "        ax.annotate(f'{int(value)}', xy=(bar.get_x() + bar.get_width() / 2, position),\n",
    "                    xytext=(0, 5), textcoords=\"offset points\",\n",
    "                    ha='center', va='bottom')\n",
    "    ax.set_ylabel('Count')\n",
    "    ax.set_xticks(ticks=range(len(data)))\n",
    "    ax.set_xticklabels(data.index, rotation=45, ha='right', fontsize=12)\n",
    "    plt.tight_layout()\n",
    "    plt.close(fig)  # Close the figure to prevent displaying multiple times in Jupyter notebook\n",
    "    return fig"
   ],
   "id": "de75434808058fde",
   "outputs": [],
   "execution_count": 76
  },
  {
   "metadata": {
    "ExecuteTime": {
     "end_time": "2024-11-27T15:16:52.478108Z",
     "start_time": "2024-11-27T15:16:52.440035Z"
    }
   },
   "cell_type": "code",
   "source": [
    "df = pd.read_pickle('justretroquery_syndirella_master.pkl.gz')\n",
    "df"
   ],
   "id": "490bafd8ac701aa4",
   "outputs": [
    {
     "data": {
      "text/plain": [
       "                                                smiles        compound_set  \\\n",
       "0                  Cn1nccc1C(=O)NCc1csc(-c2ncn[nH]2)n1  CHIKVMac-DLS-JA001   \n",
       "1      Cc1nsc(N[C@@H]2CCC[C@H]2c2csc(-c3nc[nH]n3)n2)n1  CHIKVMac-DLS-JA002   \n",
       "2                 CCc1nc(NC(=O)c2ccnc(NC3CC=CC3)c2)no1  CHIKVMac-DLS-JA003   \n",
       "3                           O=C1CC[C@H](Cn2cnccc2=O)N1  CHIKVMac-DLS-JA004   \n",
       "4                       O=c1ccncn1C[C@H]1CCS(=O)(=O)C1  CHIKVMac-DLS-JA005   \n",
       "..                                                 ...                 ...   \n",
       "389                   OCc1cc2c(c(Nc3ccc(O)cc3)c1O)OCC2     cx0969f-cx0935a   \n",
       "390                            N[C@@H]1COc2ccc(CO)cc21     cx0969d-cx1440f   \n",
       "391                           COCC(=O)Nc1cc(Br)cc(N)n1     cx1075a-cx0692a   \n",
       "392         COCC(=O)N[C@H]1CCCC[C@]12C(=O)NCC[C@@H]2Br     cx1076a-cx0692a   \n",
       "393  COCC(=O)N[C@H]1CC[C@@H](O)[C@]12C(=O)NCC[C@@H]2Br     cx1076a-cx0935a   \n",
       "\n",
       "    template     hit1     hit2  \\\n",
       "0    cx0281a  cx0892a  cx0281a   \n",
       "1    cx0281a  cx0406a  cx0281a   \n",
       "2    cx0300a  cx0441a  cx0316a   \n",
       "3    cx0300a  cx0314a  cx1114a   \n",
       "4    cx0300a  cx0314a  cx1182a   \n",
       "..       ...      ...      ...   \n",
       "389  cx0270a  cx0935a  cx0969f   \n",
       "390  cx0270a  cx1440f  cx0969d   \n",
       "391  cx0270a  cx0692a  cx1075a   \n",
       "392  cx0270a  cx0692a  cx1076a   \n",
       "393  cx0270a  cx0935a  cx1076a   \n",
       "\n",
       "                                                route0  \\\n",
       "0    [{'name': 'Sp2-sp2_Suzuki_coupling', 'reactant...   \n",
       "1    [{'name': 'Buchwald-Hartwig_amination', 'react...   \n",
       "2    [{'name': 'Buchwald-Hartwig_amidation_with_ami...   \n",
       "3    [{'name': 'Nucleophilic_substitution_with_amin...   \n",
       "4    [{'name': 'Nucleophilic_substitution_with_amin...   \n",
       "..                                                 ...   \n",
       "389  [{'name': 'Ester_to_alcohol_reduction_(intermo...   \n",
       "390  [{'name': 'NHK_reaction', 'reactantSmiles': ['...   \n",
       "391  [{'name': 'Amidation', 'reactantSmiles': ['Nc1...   \n",
       "392  [{'name': 'Alpha_alkylation_of_ester/amide', '...   \n",
       "393  [{'name': 'Alpha_alkylation_of_ester/amide', '...   \n",
       "\n",
       "                                          route0_names route0_CAR  \\\n",
       "0                            [Sp2-sp2_Suzuki_coupling]       True   \n",
       "1                         [Buchwald-Hartwig_amination]       True   \n",
       "2    [Buchwald-Hartwig_amidation_with_amide-like_nu...       True   \n",
       "3               [Nucleophilic_substitution_with_amine]       True   \n",
       "4               [Nucleophilic_substitution_with_amine]       True   \n",
       "..                                                 ...        ...   \n",
       "389  [Ester_to_alcohol_reduction_(intermolecular), ...      False   \n",
       "390                                     [NHK_reaction]      False   \n",
       "391                                        [Amidation]       True   \n",
       "392  [Alpha_alkylation_of_ester/amide, Amidation, N...      False   \n",
       "393  [Alpha_alkylation_of_ester/amide, Amidation, N...      False   \n",
       "\n",
       "                                    route0_non_CAR  \\\n",
       "0                                             None   \n",
       "1                                             None   \n",
       "2                                             None   \n",
       "3                                             None   \n",
       "4                                             None   \n",
       "..                                             ...   \n",
       "389  [Ester_to_alcohol_reduction_(intermolecular)]   \n",
       "390                                 [NHK_reaction]   \n",
       "391                                           None   \n",
       "392              [Alpha_alkylation_of_ester/amide]   \n",
       "393              [Alpha_alkylation_of_ester/amide]   \n",
       "\n",
       "                                                route1  ... route2_CAR  \\\n",
       "0    [{'name': 'Sp2-sp2_Suzuki_coupling', 'reactant...  ...       True   \n",
       "1    [{'name': 'N-nucleophilic_aromatic_substitutio...  ...       True   \n",
       "2    [{'name': 'Buchwald-Hartwig_amidation_with_ami...  ...       True   \n",
       "3    [{'name': 'Nucleophilic_substitution_with_amin...  ...       True   \n",
       "4    [{'name': 'Nucleophilic_substitution_with_amin...  ...       True   \n",
       "..                                                 ...  ...        ...   \n",
       "389  [{'name': 'Ester_to_alcohol_reduction_(intermo...  ...      False   \n",
       "390  [{'name': 'Ester_to_alcohol_reduction_(intermo...  ...      False   \n",
       "391  [{'name': 'Buchwald-Hartwig_amidation_with_ami...  ...       True   \n",
       "392  [{'name': 'Amidation', 'reactantSmiles': ['NC1...  ...      False   \n",
       "393  [{'name': 'Amidation', 'reactantSmiles': ['NC1...  ...      False   \n",
       "\n",
       "                             route2_non_CAR  \\\n",
       "0                                      None   \n",
       "1                                      None   \n",
       "2                                      None   \n",
       "3                                      None   \n",
       "4                                      None   \n",
       "..                                      ...   \n",
       "389  [Carboxylic_acid_to_alcohol_reduction]   \n",
       "390                          [NHK_reaction]   \n",
       "391                                    None   \n",
       "392       [Alpha_alkylation_of_ester/amide]   \n",
       "393       [Alpha_alkylation_of_ester/amide]   \n",
       "\n",
       "                                                route3  \\\n",
       "0    [{'name': 'Sp2-sp2_Suzuki_coupling', 'reactant...   \n",
       "1    [{'name': 'N-nucleophilic_aromatic_substitutio...   \n",
       "2    [{'name': 'Ester_amidation', 'reactantSmiles':...   \n",
       "3    [{'name': 'Nucleophilic_substitution_with_amin...   \n",
       "4    [{'name': 'Nucleophilic_substitution_with_amin...   \n",
       "..                                                 ...   \n",
       "389  [{'name': 'Buchwald-Hartwig_amination', 'react...   \n",
       "390  [{'name': 'Ozonolysis_(to_alcohol,_intermolecu...   \n",
       "391  [{'name': 'N-nucleophilic_aromatic_substitutio...   \n",
       "392  [{'name': 'Amidation', 'reactantSmiles': ['COC...   \n",
       "393  [{'name': 'Alpha_alkylation_of_ester/amide', '...   \n",
       "\n",
       "                                          route3_names route3_CAR  \\\n",
       "0                            [Sp2-sp2_Suzuki_coupling]       True   \n",
       "1               [N-nucleophilic_aromatic_substitution]       True   \n",
       "2                                    [Ester_amidation]       True   \n",
       "3               [Nucleophilic_substitution_with_amine]       True   \n",
       "4               [Nucleophilic_substitution_with_amine]       True   \n",
       "..                                                 ...        ...   \n",
       "389  [Buchwald-Hartwig_amination, Aldehyde/ketone_t...      False   \n",
       "390          [Ozonolysis_(to_alcohol,_intermolecular)]      False   \n",
       "391  [N-nucleophilic_aromatic_substitution, Amide_S...       True   \n",
       "392  [Amidation, Alpha_alkylation_of_ester/amide, N...      False   \n",
       "393  [Alpha_alkylation_of_ester/amide, Amidation, A...      False   \n",
       "\n",
       "                                route3_non_CAR  \\\n",
       "0                                         None   \n",
       "1                                         None   \n",
       "2                                         None   \n",
       "3                                         None   \n",
       "4                                         None   \n",
       "..                                         ...   \n",
       "389     [Aldehyde/ketone_to_alcohol_reduction]   \n",
       "390  [Ozonolysis_(to_alcohol,_intermolecular)]   \n",
       "391                                       None   \n",
       "392          [Alpha_alkylation_of_ester/amide]   \n",
       "393          [Alpha_alkylation_of_ester/amide]   \n",
       "\n",
       "                                                route4  \\\n",
       "0    [{'name': 'Sp2-sp2_Suzuki_coupling', 'reactant...   \n",
       "1    [{'name': 'N-nucleophilic_aromatic_substitutio...   \n",
       "2    [{'name': 'Nucleophilic_aromatic_substitution_...   \n",
       "3    [{'name': 'Nucleophilic_substitution_with_amin...   \n",
       "4    [{'name': 'Nucleophilic_substitution_with_amin...   \n",
       "..                                                 ...   \n",
       "389  [{'name': 'Ester_to_alcohol_reduction_(intermo...   \n",
       "390  [{'name': 'Ozonolysis_(to_alcohol,_intermolecu...   \n",
       "391  [{'name': 'N-nucleophilic_aromatic_substitutio...   \n",
       "392  [{'name': 'Alpha_alkylation_of_ester/amide', '...   \n",
       "393  [{'name': 'Amidation', 'reactantSmiles': ['COC...   \n",
       "\n",
       "                                          route4_names route4_CAR  \\\n",
       "0                            [Sp2-sp2_Suzuki_coupling]       True   \n",
       "1               [N-nucleophilic_aromatic_substitution]       True   \n",
       "2    [Nucleophilic_aromatic_substitution_(methylsul...      False   \n",
       "3               [Nucleophilic_substitution_with_amine]       True   \n",
       "4               [Nucleophilic_substitution_with_amine]       True   \n",
       "..                                                 ...        ...   \n",
       "389  [Ester_to_alcohol_reduction_(intermolecular), ...      False   \n",
       "390          [Ozonolysis_(to_alcohol,_intermolecular)]      False   \n",
       "391  [N-nucleophilic_aromatic_substitution, Amidation]       True   \n",
       "392  [Alpha_alkylation_of_ester/amide, Amidation, A...      False   \n",
       "393  [Amidation, Amidation, Alpha_alkylation_of_est...      False   \n",
       "\n",
       "                                        route4_non_CAR  \n",
       "0                                                 None  \n",
       "1                                                 None  \n",
       "2    [Nucleophilic_aromatic_substitution_(methylsul...  \n",
       "3                                                 None  \n",
       "4                                                 None  \n",
       "..                                                 ...  \n",
       "389      [Ester_to_alcohol_reduction_(intermolecular)]  \n",
       "390          [Ozonolysis_(to_alcohol,_intermolecular)]  \n",
       "391                                               None  \n",
       "392                  [Alpha_alkylation_of_ester/amide]  \n",
       "393                  [Alpha_alkylation_of_ester/amide]  \n",
       "\n",
       "[394 rows x 25 columns]"
      ],
      "text/html": [
       "<div>\n",
       "<style scoped>\n",
       "    .dataframe tbody tr th:only-of-type {\n",
       "        vertical-align: middle;\n",
       "    }\n",
       "\n",
       "    .dataframe tbody tr th {\n",
       "        vertical-align: top;\n",
       "    }\n",
       "\n",
       "    .dataframe thead th {\n",
       "        text-align: right;\n",
       "    }\n",
       "</style>\n",
       "<table border=\"1\" class=\"dataframe\">\n",
       "  <thead>\n",
       "    <tr style=\"text-align: right;\">\n",
       "      <th></th>\n",
       "      <th>smiles</th>\n",
       "      <th>compound_set</th>\n",
       "      <th>template</th>\n",
       "      <th>hit1</th>\n",
       "      <th>hit2</th>\n",
       "      <th>route0</th>\n",
       "      <th>route0_names</th>\n",
       "      <th>route0_CAR</th>\n",
       "      <th>route0_non_CAR</th>\n",
       "      <th>route1</th>\n",
       "      <th>...</th>\n",
       "      <th>route2_CAR</th>\n",
       "      <th>route2_non_CAR</th>\n",
       "      <th>route3</th>\n",
       "      <th>route3_names</th>\n",
       "      <th>route3_CAR</th>\n",
       "      <th>route3_non_CAR</th>\n",
       "      <th>route4</th>\n",
       "      <th>route4_names</th>\n",
       "      <th>route4_CAR</th>\n",
       "      <th>route4_non_CAR</th>\n",
       "    </tr>\n",
       "  </thead>\n",
       "  <tbody>\n",
       "    <tr>\n",
       "      <th>0</th>\n",
       "      <td>Cn1nccc1C(=O)NCc1csc(-c2ncn[nH]2)n1</td>\n",
       "      <td>CHIKVMac-DLS-JA001</td>\n",
       "      <td>cx0281a</td>\n",
       "      <td>cx0892a</td>\n",
       "      <td>cx0281a</td>\n",
       "      <td>[{'name': 'Sp2-sp2_Suzuki_coupling', 'reactant...</td>\n",
       "      <td>[Sp2-sp2_Suzuki_coupling]</td>\n",
       "      <td>True</td>\n",
       "      <td>None</td>\n",
       "      <td>[{'name': 'Sp2-sp2_Suzuki_coupling', 'reactant...</td>\n",
       "      <td>...</td>\n",
       "      <td>True</td>\n",
       "      <td>None</td>\n",
       "      <td>[{'name': 'Sp2-sp2_Suzuki_coupling', 'reactant...</td>\n",
       "      <td>[Sp2-sp2_Suzuki_coupling]</td>\n",
       "      <td>True</td>\n",
       "      <td>None</td>\n",
       "      <td>[{'name': 'Sp2-sp2_Suzuki_coupling', 'reactant...</td>\n",
       "      <td>[Sp2-sp2_Suzuki_coupling]</td>\n",
       "      <td>True</td>\n",
       "      <td>None</td>\n",
       "    </tr>\n",
       "    <tr>\n",
       "      <th>1</th>\n",
       "      <td>Cc1nsc(N[C@@H]2CCC[C@H]2c2csc(-c3nc[nH]n3)n2)n1</td>\n",
       "      <td>CHIKVMac-DLS-JA002</td>\n",
       "      <td>cx0281a</td>\n",
       "      <td>cx0406a</td>\n",
       "      <td>cx0281a</td>\n",
       "      <td>[{'name': 'Buchwald-Hartwig_amination', 'react...</td>\n",
       "      <td>[Buchwald-Hartwig_amination]</td>\n",
       "      <td>True</td>\n",
       "      <td>None</td>\n",
       "      <td>[{'name': 'N-nucleophilic_aromatic_substitutio...</td>\n",
       "      <td>...</td>\n",
       "      <td>True</td>\n",
       "      <td>None</td>\n",
       "      <td>[{'name': 'N-nucleophilic_aromatic_substitutio...</td>\n",
       "      <td>[N-nucleophilic_aromatic_substitution]</td>\n",
       "      <td>True</td>\n",
       "      <td>None</td>\n",
       "      <td>[{'name': 'N-nucleophilic_aromatic_substitutio...</td>\n",
       "      <td>[N-nucleophilic_aromatic_substitution]</td>\n",
       "      <td>True</td>\n",
       "      <td>None</td>\n",
       "    </tr>\n",
       "    <tr>\n",
       "      <th>2</th>\n",
       "      <td>CCc1nc(NC(=O)c2ccnc(NC3CC=CC3)c2)no1</td>\n",
       "      <td>CHIKVMac-DLS-JA003</td>\n",
       "      <td>cx0300a</td>\n",
       "      <td>cx0441a</td>\n",
       "      <td>cx0316a</td>\n",
       "      <td>[{'name': 'Buchwald-Hartwig_amidation_with_ami...</td>\n",
       "      <td>[Buchwald-Hartwig_amidation_with_amide-like_nu...</td>\n",
       "      <td>True</td>\n",
       "      <td>None</td>\n",
       "      <td>[{'name': 'Buchwald-Hartwig_amidation_with_ami...</td>\n",
       "      <td>...</td>\n",
       "      <td>True</td>\n",
       "      <td>None</td>\n",
       "      <td>[{'name': 'Ester_amidation', 'reactantSmiles':...</td>\n",
       "      <td>[Ester_amidation]</td>\n",
       "      <td>True</td>\n",
       "      <td>None</td>\n",
       "      <td>[{'name': 'Nucleophilic_aromatic_substitution_...</td>\n",
       "      <td>[Nucleophilic_aromatic_substitution_(methylsul...</td>\n",
       "      <td>False</td>\n",
       "      <td>[Nucleophilic_aromatic_substitution_(methylsul...</td>\n",
       "    </tr>\n",
       "    <tr>\n",
       "      <th>3</th>\n",
       "      <td>O=C1CC[C@H](Cn2cnccc2=O)N1</td>\n",
       "      <td>CHIKVMac-DLS-JA004</td>\n",
       "      <td>cx0300a</td>\n",
       "      <td>cx0314a</td>\n",
       "      <td>cx1114a</td>\n",
       "      <td>[{'name': 'Nucleophilic_substitution_with_amin...</td>\n",
       "      <td>[Nucleophilic_substitution_with_amine]</td>\n",
       "      <td>True</td>\n",
       "      <td>None</td>\n",
       "      <td>[{'name': 'Nucleophilic_substitution_with_amin...</td>\n",
       "      <td>...</td>\n",
       "      <td>True</td>\n",
       "      <td>None</td>\n",
       "      <td>[{'name': 'Nucleophilic_substitution_with_amin...</td>\n",
       "      <td>[Nucleophilic_substitution_with_amine]</td>\n",
       "      <td>True</td>\n",
       "      <td>None</td>\n",
       "      <td>[{'name': 'Nucleophilic_substitution_with_amin...</td>\n",
       "      <td>[Nucleophilic_substitution_with_amine]</td>\n",
       "      <td>True</td>\n",
       "      <td>None</td>\n",
       "    </tr>\n",
       "    <tr>\n",
       "      <th>4</th>\n",
       "      <td>O=c1ccncn1C[C@H]1CCS(=O)(=O)C1</td>\n",
       "      <td>CHIKVMac-DLS-JA005</td>\n",
       "      <td>cx0300a</td>\n",
       "      <td>cx0314a</td>\n",
       "      <td>cx1182a</td>\n",
       "      <td>[{'name': 'Nucleophilic_substitution_with_amin...</td>\n",
       "      <td>[Nucleophilic_substitution_with_amine]</td>\n",
       "      <td>True</td>\n",
       "      <td>None</td>\n",
       "      <td>[{'name': 'Nucleophilic_substitution_with_amin...</td>\n",
       "      <td>...</td>\n",
       "      <td>True</td>\n",
       "      <td>None</td>\n",
       "      <td>[{'name': 'Nucleophilic_substitution_with_amin...</td>\n",
       "      <td>[Nucleophilic_substitution_with_amine]</td>\n",
       "      <td>True</td>\n",
       "      <td>None</td>\n",
       "      <td>[{'name': 'Nucleophilic_substitution_with_amin...</td>\n",
       "      <td>[Nucleophilic_substitution_with_amine]</td>\n",
       "      <td>True</td>\n",
       "      <td>None</td>\n",
       "    </tr>\n",
       "    <tr>\n",
       "      <th>...</th>\n",
       "      <td>...</td>\n",
       "      <td>...</td>\n",
       "      <td>...</td>\n",
       "      <td>...</td>\n",
       "      <td>...</td>\n",
       "      <td>...</td>\n",
       "      <td>...</td>\n",
       "      <td>...</td>\n",
       "      <td>...</td>\n",
       "      <td>...</td>\n",
       "      <td>...</td>\n",
       "      <td>...</td>\n",
       "      <td>...</td>\n",
       "      <td>...</td>\n",
       "      <td>...</td>\n",
       "      <td>...</td>\n",
       "      <td>...</td>\n",
       "      <td>...</td>\n",
       "      <td>...</td>\n",
       "      <td>...</td>\n",
       "      <td>...</td>\n",
       "    </tr>\n",
       "    <tr>\n",
       "      <th>389</th>\n",
       "      <td>OCc1cc2c(c(Nc3ccc(O)cc3)c1O)OCC2</td>\n",
       "      <td>cx0969f-cx0935a</td>\n",
       "      <td>cx0270a</td>\n",
       "      <td>cx0935a</td>\n",
       "      <td>cx0969f</td>\n",
       "      <td>[{'name': 'Ester_to_alcohol_reduction_(intermo...</td>\n",
       "      <td>[Ester_to_alcohol_reduction_(intermolecular), ...</td>\n",
       "      <td>False</td>\n",
       "      <td>[Ester_to_alcohol_reduction_(intermolecular)]</td>\n",
       "      <td>[{'name': 'Ester_to_alcohol_reduction_(intermo...</td>\n",
       "      <td>...</td>\n",
       "      <td>False</td>\n",
       "      <td>[Carboxylic_acid_to_alcohol_reduction]</td>\n",
       "      <td>[{'name': 'Buchwald-Hartwig_amination', 'react...</td>\n",
       "      <td>[Buchwald-Hartwig_amination, Aldehyde/ketone_t...</td>\n",
       "      <td>False</td>\n",
       "      <td>[Aldehyde/ketone_to_alcohol_reduction]</td>\n",
       "      <td>[{'name': 'Ester_to_alcohol_reduction_(intermo...</td>\n",
       "      <td>[Ester_to_alcohol_reduction_(intermolecular), ...</td>\n",
       "      <td>False</td>\n",
       "      <td>[Ester_to_alcohol_reduction_(intermolecular)]</td>\n",
       "    </tr>\n",
       "    <tr>\n",
       "      <th>390</th>\n",
       "      <td>N[C@@H]1COc2ccc(CO)cc21</td>\n",
       "      <td>cx0969d-cx1440f</td>\n",
       "      <td>cx0270a</td>\n",
       "      <td>cx1440f</td>\n",
       "      <td>cx0969d</td>\n",
       "      <td>[{'name': 'NHK_reaction', 'reactantSmiles': ['...</td>\n",
       "      <td>[NHK_reaction]</td>\n",
       "      <td>False</td>\n",
       "      <td>[NHK_reaction]</td>\n",
       "      <td>[{'name': 'Ester_to_alcohol_reduction_(intermo...</td>\n",
       "      <td>...</td>\n",
       "      <td>False</td>\n",
       "      <td>[NHK_reaction]</td>\n",
       "      <td>[{'name': 'Ozonolysis_(to_alcohol,_intermolecu...</td>\n",
       "      <td>[Ozonolysis_(to_alcohol,_intermolecular)]</td>\n",
       "      <td>False</td>\n",
       "      <td>[Ozonolysis_(to_alcohol,_intermolecular)]</td>\n",
       "      <td>[{'name': 'Ozonolysis_(to_alcohol,_intermolecu...</td>\n",
       "      <td>[Ozonolysis_(to_alcohol,_intermolecular)]</td>\n",
       "      <td>False</td>\n",
       "      <td>[Ozonolysis_(to_alcohol,_intermolecular)]</td>\n",
       "    </tr>\n",
       "    <tr>\n",
       "      <th>391</th>\n",
       "      <td>COCC(=O)Nc1cc(Br)cc(N)n1</td>\n",
       "      <td>cx1075a-cx0692a</td>\n",
       "      <td>cx0270a</td>\n",
       "      <td>cx0692a</td>\n",
       "      <td>cx1075a</td>\n",
       "      <td>[{'name': 'Amidation', 'reactantSmiles': ['Nc1...</td>\n",
       "      <td>[Amidation]</td>\n",
       "      <td>True</td>\n",
       "      <td>None</td>\n",
       "      <td>[{'name': 'Buchwald-Hartwig_amidation_with_ami...</td>\n",
       "      <td>...</td>\n",
       "      <td>True</td>\n",
       "      <td>None</td>\n",
       "      <td>[{'name': 'N-nucleophilic_aromatic_substitutio...</td>\n",
       "      <td>[N-nucleophilic_aromatic_substitution, Amide_S...</td>\n",
       "      <td>True</td>\n",
       "      <td>None</td>\n",
       "      <td>[{'name': 'N-nucleophilic_aromatic_substitutio...</td>\n",
       "      <td>[N-nucleophilic_aromatic_substitution, Amidation]</td>\n",
       "      <td>True</td>\n",
       "      <td>None</td>\n",
       "    </tr>\n",
       "    <tr>\n",
       "      <th>392</th>\n",
       "      <td>COCC(=O)N[C@H]1CCCC[C@]12C(=O)NCC[C@@H]2Br</td>\n",
       "      <td>cx1076a-cx0692a</td>\n",
       "      <td>cx0270a</td>\n",
       "      <td>cx0692a</td>\n",
       "      <td>cx1076a</td>\n",
       "      <td>[{'name': 'Alpha_alkylation_of_ester/amide', '...</td>\n",
       "      <td>[Alpha_alkylation_of_ester/amide, Amidation, N...</td>\n",
       "      <td>False</td>\n",
       "      <td>[Alpha_alkylation_of_ester/amide]</td>\n",
       "      <td>[{'name': 'Amidation', 'reactantSmiles': ['NC1...</td>\n",
       "      <td>...</td>\n",
       "      <td>False</td>\n",
       "      <td>[Alpha_alkylation_of_ester/amide]</td>\n",
       "      <td>[{'name': 'Amidation', 'reactantSmiles': ['COC...</td>\n",
       "      <td>[Amidation, Alpha_alkylation_of_ester/amide, N...</td>\n",
       "      <td>False</td>\n",
       "      <td>[Alpha_alkylation_of_ester/amide]</td>\n",
       "      <td>[{'name': 'Alpha_alkylation_of_ester/amide', '...</td>\n",
       "      <td>[Alpha_alkylation_of_ester/amide, Amidation, A...</td>\n",
       "      <td>False</td>\n",
       "      <td>[Alpha_alkylation_of_ester/amide]</td>\n",
       "    </tr>\n",
       "    <tr>\n",
       "      <th>393</th>\n",
       "      <td>COCC(=O)N[C@H]1CC[C@@H](O)[C@]12C(=O)NCC[C@@H]2Br</td>\n",
       "      <td>cx1076a-cx0935a</td>\n",
       "      <td>cx0270a</td>\n",
       "      <td>cx0935a</td>\n",
       "      <td>cx1076a</td>\n",
       "      <td>[{'name': 'Alpha_alkylation_of_ester/amide', '...</td>\n",
       "      <td>[Alpha_alkylation_of_ester/amide, Amidation, N...</td>\n",
       "      <td>False</td>\n",
       "      <td>[Alpha_alkylation_of_ester/amide]</td>\n",
       "      <td>[{'name': 'Amidation', 'reactantSmiles': ['NC1...</td>\n",
       "      <td>...</td>\n",
       "      <td>False</td>\n",
       "      <td>[Alpha_alkylation_of_ester/amide]</td>\n",
       "      <td>[{'name': 'Alpha_alkylation_of_ester/amide', '...</td>\n",
       "      <td>[Alpha_alkylation_of_ester/amide, Amidation, A...</td>\n",
       "      <td>False</td>\n",
       "      <td>[Alpha_alkylation_of_ester/amide]</td>\n",
       "      <td>[{'name': 'Amidation', 'reactantSmiles': ['COC...</td>\n",
       "      <td>[Amidation, Amidation, Alpha_alkylation_of_est...</td>\n",
       "      <td>False</td>\n",
       "      <td>[Alpha_alkylation_of_ester/amide]</td>\n",
       "    </tr>\n",
       "  </tbody>\n",
       "</table>\n",
       "<p>394 rows × 25 columns</p>\n",
       "</div>"
      ]
     },
     "execution_count": 77,
     "metadata": {},
     "output_type": "execute_result"
    }
   ],
   "execution_count": 77
  },
  {
   "metadata": {
    "ExecuteTime": {
     "end_time": "2024-11-27T15:16:52.556094Z",
     "start_time": "2024-11-27T15:16:52.514984Z"
    }
   },
   "cell_type": "code",
   "source": [
    "df['routes_found'] = df['route0'].apply(lambda x: pd.isna(x))\n",
    "df['routes_found'].value_counts()"
   ],
   "id": "d91bf8232f2d7349",
   "outputs": [
    {
     "data": {
      "text/plain": [
       "routes_found\n",
       "[False]                         142\n",
       "True                             91\n",
       "[False, False]                    1\n",
       "[False, False, False]             1\n",
       "[False, False]                    1\n",
       "                               ... \n",
       "[False, False, False]             1\n",
       "[False, False]                    1\n",
       "[False, False, False, False]      1\n",
       "[False, False, False]             1\n",
       "[False, False, False, False]      1\n",
       "Name: count, Length: 163, dtype: int64"
      ]
     },
     "execution_count": 78,
     "metadata": {},
     "output_type": "execute_result"
    }
   ],
   "execution_count": 78
  },
  {
   "metadata": {
    "ExecuteTime": {
     "end_time": "2024-11-27T15:16:52.619791Z",
     "start_time": "2024-11-27T15:16:52.617602Z"
    }
   },
   "cell_type": "code",
   "source": "91/len(df)",
   "id": "37112ee762b3910b",
   "outputs": [
    {
     "data": {
      "text/plain": [
       "0.23096446700507614"
      ]
     },
     "execution_count": 79,
     "metadata": {},
     "output_type": "execute_result"
    }
   ],
   "execution_count": 79
  },
  {
   "metadata": {},
   "cell_type": "markdown",
   "source": "Number of scaffolds with no routes found: 91 (23.1%)",
   "id": "d97fa12373e4697c"
  },
  {
   "metadata": {
    "ExecuteTime": {
     "end_time": "2024-11-27T15:16:52.671690Z",
     "start_time": "2024-11-27T15:16:52.659074Z"
    }
   },
   "cell_type": "code",
   "source": [
    "# N compounds with first route non CAR\n",
    "route0_non_CAR = df['route0_non_CAR'].apply(lambda x: pd.isna(x))\n",
    "route0_non_CAR.value_counts()"
   ],
   "id": "57e6bee797948277",
   "outputs": [
    {
     "data": {
      "text/plain": [
       "route0_non_CAR\n",
       "True                     200\n",
       "[False]                  116\n",
       "[False, False]             1\n",
       "[False, False, False]      1\n",
       "[False, False]             1\n",
       "                        ... \n",
       "[False, False]             1\n",
       "[False, False]             1\n",
       "[False, False]             1\n",
       "[False, False]             1\n",
       "[False, False]             1\n",
       "Name: count, Length: 80, dtype: int64"
      ]
     },
     "execution_count": 80,
     "metadata": {},
     "output_type": "execute_result"
    }
   ],
   "execution_count": 80
  },
  {
   "metadata": {
    "ExecuteTime": {
     "end_time": "2024-11-27T15:16:52.701452Z",
     "start_time": "2024-11-27T15:16:52.698909Z"
    }
   },
   "cell_type": "code",
   "source": "(200-91)/(len(df)-91)",
   "id": "666ce6f82021c58f",
   "outputs": [
    {
     "data": {
      "text/plain": [
       "0.35973597359735976"
      ]
     },
     "execution_count": 81,
     "metadata": {},
     "output_type": "execute_result"
    }
   ],
   "execution_count": 81
  },
  {
   "metadata": {},
   "cell_type": "markdown",
   "source": "Number of scaffolds with first route non CAR: 109 (36.0% of 303 scaffolds with routes found)",
   "id": "e5fc7b1a6d364e22"
  },
  {
   "metadata": {
    "ExecuteTime": {
     "end_time": "2024-11-27T15:16:52.752264Z",
     "start_time": "2024-11-27T15:16:52.743276Z"
    }
   },
   "cell_type": "code",
   "source": [
    "df_non_CAR = pd.concat([df[f'route{i}_non_CAR'] for i in range(5)], axis=0).dropna()\n",
    "df_non_CAR.value_counts()"
   ],
   "id": "37171f9f86d8a3e7",
   "outputs": [
    {
     "data": {
      "text/plain": [
       "[Sp3-sp2_Macmillan_coupling_alcohol_and_aryl_bromide]                                                                                                          43\n",
       "[Aryl_halide_to_aniline]                                                                                                                                       37\n",
       "[Buchwald-Hartwig_(thio)etherification]                                                                                                                        32\n",
       "[NHK_reaction]                                                                                                                                                 22\n",
       "[1,2,4-Oxadiazole_synthesis_(amidoxime_+_carboxylate)]                                                                                                         22\n",
       "                                                                                                                                                               ..\n",
       "[Anthranil_synthesis, Friedel-Crafts_acylation]                                                                                                                 1\n",
       "[Alpha_alkylation_of_ester/amide, Corey-House_synthesis_(intermolecular), Alpha_alkylation_of_ester/amide, Synthesis_of_organolithium, Alkene_chlorination]     1\n",
       "[Leimgruber-Batcho_indole_synthesis, Methylation_of_alcohol, Sp3-sp2_Macmillan_coupling_with_chloride_(intermolecular)]                                         1\n",
       "[Buchwald-Hartwig_(thio)etherification, Imine_formation]                                                                                                        1\n",
       "[Aldehyde/ketone_to_alcohol_reduction, Prilezhaev_reaction]                                                                                                     1\n",
       "Name: count, Length: 350, dtype: int64"
      ]
     },
     "execution_count": 82,
     "metadata": {},
     "output_type": "execute_result"
    }
   ],
   "execution_count": 82
  },
  {
   "metadata": {
    "ExecuteTime": {
     "end_time": "2024-11-27T15:16:52.809291Z",
     "start_time": "2024-11-27T15:16:52.801899Z"
    }
   },
   "cell_type": "code",
   "source": [
    "# If you develop chemistry for top 3 routes\n",
    "df_non_CAR.value_counts().head(3).sum()"
   ],
   "id": "480b207bbf6db9d6",
   "outputs": [
    {
     "data": {
      "text/plain": [
       "112"
      ]
     },
     "execution_count": 83,
     "metadata": {},
     "output_type": "execute_result"
    }
   ],
   "execution_count": 83
  },
  {
   "metadata": {
    "ExecuteTime": {
     "end_time": "2024-11-27T15:16:52.843770Z",
     "start_time": "2024-11-27T15:16:52.836379Z"
    }
   },
   "cell_type": "code",
   "source": [
    "# percent increase\n",
    "df_non_CAR.value_counts().head(3).sum()/len(df)"
   ],
   "id": "a8d2c69335fd2e15",
   "outputs": [
    {
     "data": {
      "text/plain": [
       "0.28426395939086296"
      ]
     },
     "execution_count": 84,
     "metadata": {},
     "output_type": "execute_result"
    }
   ],
   "execution_count": 84
  },
  {
   "metadata": {
    "ExecuteTime": {
     "end_time": "2024-11-27T15:16:52.896228Z",
     "start_time": "2024-11-27T15:16:52.881322Z"
    }
   },
   "cell_type": "code",
   "source": [
    "# N scaffolds with no route non CAR\n",
    "df['all_routes_non_CAR'] = df[[f'route{i}_non_CAR' for i in range(5)]].apply(lambda x: all(pd.notna(x)), axis=1)\n",
    "df['all_routes_non_CAR'].value_counts()"
   ],
   "id": "c6cca0287e3883b4",
   "outputs": [
    {
     "data": {
      "text/plain": [
       "all_routes_non_CAR\n",
       "False    245\n",
       "True     149\n",
       "Name: count, dtype: int64"
      ]
     },
     "execution_count": 85,
     "metadata": {},
     "output_type": "execute_result"
    }
   ],
   "execution_count": 85
  },
  {
   "metadata": {
    "ExecuteTime": {
     "end_time": "2024-11-27T15:16:53.006588Z",
     "start_time": "2024-11-27T15:16:52.925358Z"
    }
   },
   "cell_type": "code",
   "source": [
    "# waterfall plot losing scaffold\n",
    "waterfall_data: pd.Series = pd.Series({'N scaffolds': 394, 'N scaffolds w/ routes': 303, 'N scaffolds w/ any route for CAR': 154, 'N CAR scaffolds': 154})\n",
    "fig = make_waterfall_plot(waterfall_data, sns.color_palette(\"flare\", n_colors=4)[0])\n",
    "fig"
   ],
   "id": "a1b445934221bada",
   "outputs": [
    {
     "data": {
      "text/plain": [
       "<Figure size 1200x800 with 1 Axes>"
      ],
      "image/png": "[encoded data removed]"
     },
     "execution_count": 86,
     "metadata": {},
     "output_type": "execute_result"
    }
   ],
   "execution_count": 86
  },
  {
   "metadata": {
    "ExecuteTime": {
     "end_time": "2024-11-27T15:16:53.035947Z",
     "start_time": "2024-11-27T15:16:53.027591Z"
    }
   },
   "cell_type": "code",
   "source": [
    "# histogram of frequency of routes within the 149 that don't have a CAR route\n",
    "df_non_CAR = df[df['all_routes_non_CAR']]\n",
    "counts_non_CAR = pd.concat([df_non_CAR[f'route{i}_non_CAR'] for i in range(5)], axis=0).dropna()\n",
    "counts_non_CAR.value_counts()"
   ],
   "id": "d5796871c33a5ab4",
   "outputs": [
    {
     "data": {
      "text/plain": [
       "[Sp3-sp2_Macmillan_coupling_alcohol_and_aryl_bromide]                                                                      32\n",
       "[1,2,4-Oxadiazole_synthesis_(amidoxime_+_carboxylate)]                                                                     21\n",
       "[Buchwald-Hartwig_(thio)etherification]                                                                                    18\n",
       "[NHK_reaction]                                                                                                             17\n",
       "[Hydrogenation_of_pyridine]                                                                                                15\n",
       "                                                                                                                           ..\n",
       "[Heck_reaction_(intermolecular), Imine_formation, Aldol_condensation]                                                       1\n",
       "[Leimgruber-Batcho_indole_synthesis, Sp3-sp2_Macmillan_coupling_with_chloride_(intermolecular), Methylation_of_alcohol]     1\n",
       "[Ester_to_alcohol_reduction_(intermolecular), Nucleophilic_aromatic_substitution_(alcohol,_phenol,_water)]                  1\n",
       "[1,2,4-Oxadiazole_synthesis_(amidoxime_+_carboxylate), Alpha-arylation]                                                     1\n",
       "[Aldehyde/ketone_to_alcohol_reduction, Prilezhaev_reaction]                                                                 1\n",
       "Name: count, Length: 298, dtype: int64"
      ]
     },
     "execution_count": 87,
     "metadata": {},
     "output_type": "execute_result"
    }
   ],
   "execution_count": 87
  },
  {
   "metadata": {
    "ExecuteTime": {
     "end_time": "2024-11-27T15:16:53.207096Z",
     "start_time": "2024-11-27T15:16:53.072258Z"
    }
   },
   "cell_type": "code",
   "source": [
    "# top 5 routes\n",
    "make_histogram_plot(counts_non_CAR.value_counts().head(10), sns.color_palette(\"flare\", n_colors=4)[0])"
   ],
   "id": "69667f7762aabdc2",
   "outputs": [
    {
     "data": {
      "text/plain": [
       "<Figure size 1200x800 with 1 Axes>"
      ],
      "image/png": "[encoded data removed]"
     },
     "execution_count": 88,
     "metadata": {},
     "output_type": "execute_result"
    }
   ],
   "execution_count": 88
  },
  {
   "metadata": {
    "ExecuteTime": {
     "end_time": "2024-11-27T15:24:43.636520Z",
     "start_time": "2024-11-27T15:24:41.295484Z"
    }
   },
   "cell_type": "code",
   "source": "df_non_CAR[[f'route{i}_non_CAR' for i in range(5)]].apply(lambda x: [rxn == counts_non_CAR.value_counts().index[0][0] for rxn in x] , axis=1)",
   "id": "813dff19f6689db",
   "outputs": [
    {
     "data": {
      "text/plain": [
       "5      [False, False, False, False, False]\n",
       "9      [False, False, False, False, False]\n",
       "11     [False, False, False, False, False]\n",
       "12     [False, False, False, False, False]\n",
       "14     [False, False, False, False, False]\n",
       "                      ...                 \n",
       "388    [False, False, False, False, False]\n",
       "389    [False, False, False, False, False]\n",
       "390    [False, False, False, False, False]\n",
       "392    [False, False, False, False, False]\n",
       "393    [False, False, False, False, False]\n",
       "Length: 149, dtype: object"
      ]
     },
     "execution_count": 99,
     "metadata": {},
     "output_type": "execute_result"
    }
   ],
   "execution_count": 99
  },
  {
   "metadata": {
    "ExecuteTime": {
     "end_time": "2024-11-27T15:35:42.420273Z",
     "start_time": "2024-11-27T15:35:42.408467Z"
    }
   },
   "cell_type": "code",
   "source": "counts_non_CAR.value_counts().index[0][0]",
   "id": "75cc85959f7d411e",
   "outputs": [
    {
     "data": {
      "text/plain": [
       "'Sp3-sp2_Macmillan_coupling_alcohol_and_aryl_bromide'"
      ]
     },
     "execution_count": 119,
     "metadata": {},
     "output_type": "execute_result"
    }
   ],
   "execution_count": 119
  },
  {
   "metadata": {
    "ExecuteTime": {
     "end_time": "2024-11-27T15:34:36.858394Z",
     "start_time": "2024-11-27T15:34:34.513366Z"
    }
   },
   "cell_type": "code",
   "source": [
    "# Check if each reaction in the row matches the most common reaction\n",
    "macmillan_routes = df_non_CAR[[f'route{i}_non_CAR' for i in range(5)]].apply(lambda x: [rxn == counts_non_CAR.value_counts().index[0] for rxn in x], axis=1)\n",
    "# number of rows with any True\n",
    "macmillan_routes.value_counts()"
   ],
   "id": "9cdda904531b03d5",
   "outputs": [
    {
     "data": {
      "text/plain": [
       "[False, False, False, False, False]    134\n",
       "[False, False, True, False, False]       2\n",
       "[True, False, True, True, True]          2\n",
       "[True, False, False, False, False]       2\n",
       "[False, False, False, True, False]       2\n",
       "[True, False, True, False, True]         2\n",
       "[False, True, False, True, False]        1\n",
       "[True, True, True, True, True]           1\n",
       "[True, False, False, False, True]        1\n",
       "[True, False, False, True, False]        1\n",
       "[False, True, False, False, False]       1\n",
       "Name: count, dtype: int64"
      ]
     },
     "execution_count": 117,
     "metadata": {},
     "output_type": "execute_result"
    }
   ],
   "execution_count": 117
  },
  {
   "metadata": {
    "ExecuteTime": {
     "end_time": "2024-11-27T15:34:43.899359Z",
     "start_time": "2024-11-27T15:34:43.896287Z"
    }
   },
   "cell_type": "code",
   "source": "149-134",
   "id": "962162f3e97ffa06",
   "outputs": [
    {
     "data": {
      "text/plain": [
       "15"
      ]
     },
     "execution_count": 118,
     "metadata": {},
     "output_type": "execute_result"
    }
   ],
   "execution_count": 118
  },
  {
   "metadata": {
    "ExecuteTime": {
     "end_time": "2024-11-27T15:38:36.779720Z",
     "start_time": "2024-11-27T15:38:36.773618Z"
    }
   },
   "cell_type": "code",
   "source": "counts_non_CAR.value_counts().index[1]",
   "id": "4adcd9eefd1ed25c",
   "outputs": [
    {
     "data": {
      "text/plain": [
       "['1,2,4-Oxadiazole_synthesis_(amidoxime_+_carboxylate)']"
      ]
     },
     "execution_count": 122,
     "metadata": {},
     "output_type": "execute_result"
    }
   ],
   "execution_count": 122
  },
  {
   "metadata": {
    "ExecuteTime": {
     "end_time": "2024-11-27T15:38:10.763505Z",
     "start_time": "2024-11-27T15:38:08.377647Z"
    }
   },
   "cell_type": "code",
   "source": [
    "# Check if each reaction in the row matches the most common reaction\n",
    "exact_rxn_routes = df_non_CAR[[f'route{i}_non_CAR' for i in range(5)]].apply(lambda x: [rxn == counts_non_CAR.value_counts().index[1] for rxn in x], axis=1)\n",
    "# number of rows with any True\n",
    "exact_rxn_routes.value_counts()"
   ],
   "id": "5186f98afe737ed0",
   "outputs": [
    {
     "data": {
      "text/plain": [
       "[False, False, False, False, False]    133\n",
       "[True, False, False, True, False]        4\n",
       "[False, True, False, False, False]       4\n",
       "[True, False, False, False, False]       4\n",
       "[False, False, True, False, False]       3\n",
       "[False, True, False, False, True]        1\n",
       "Name: count, dtype: int64"
      ]
     },
     "execution_count": 120,
     "metadata": {},
     "output_type": "execute_result"
    }
   ],
   "execution_count": 120
  },
  {
   "metadata": {
    "ExecuteTime": {
     "end_time": "2024-11-27T15:38:22.670020Z",
     "start_time": "2024-11-27T15:38:22.666114Z"
    }
   },
   "cell_type": "code",
   "source": "149-133",
   "id": "7b3114dc69ae69d9",
   "outputs": [
    {
     "data": {
      "text/plain": [
       "16"
      ]
     },
     "execution_count": 121,
     "metadata": {},
     "output_type": "execute_result"
    }
   ],
   "execution_count": 121
  },
  {
   "metadata": {
    "ExecuteTime": {
     "end_time": "2024-11-27T15:39:56.563199Z",
     "start_time": "2024-11-27T15:39:56.549715Z"
    }
   },
   "cell_type": "code",
   "source": "counts_non_CAR.value_counts().index[2]",
   "id": "ddd26270dd8c0a78",
   "outputs": [
    {
     "data": {
      "text/plain": [
       "['Buchwald-Hartwig_(thio)etherification']"
      ]
     },
     "execution_count": 123,
     "metadata": {},
     "output_type": "execute_result"
    }
   ],
   "execution_count": 123
  },
  {
   "metadata": {
    "ExecuteTime": {
     "end_time": "2024-11-27T15:40:08.116920Z",
     "start_time": "2024-11-27T15:40:05.756335Z"
    }
   },
   "cell_type": "code",
   "source": [
    "# Check if each reaction in the row matches the most common reaction\n",
    "exact_rxn_routes = df_non_CAR[[f'route{i}_non_CAR' for i in range(5)]].apply(lambda x: [rxn == counts_non_CAR.value_counts().index[2] for rxn in x], axis=1)\n",
    "# number of rows with any True\n",
    "exact_rxn_routes.value_counts()"
   ],
   "id": "e161b2668c250e3e",
   "outputs": [
    {
     "data": {
      "text/plain": [
       "[False, False, False, False, False]    141\n",
       "[True, True, False, False, False]        2\n",
       "[False, False, True, False, False]       1\n",
       "[True, True, True, True, True]           1\n",
       "[False, True, False, False, True]        1\n",
       "[False, False, False, True, False]       1\n",
       "[False, True, False, False, False]       1\n",
       "[True, True, True, True, False]          1\n",
       "Name: count, dtype: int64"
      ]
     },
     "execution_count": 125,
     "metadata": {},
     "output_type": "execute_result"
    }
   ],
   "execution_count": 125
  },
  {
   "metadata": {
    "ExecuteTime": {
     "end_time": "2024-11-27T15:40:13.893588Z",
     "start_time": "2024-11-27T15:40:13.890011Z"
    }
   },
   "cell_type": "code",
   "source": "149-141",
   "id": "7226e46933cb169b",
   "outputs": [
    {
     "data": {
      "text/plain": [
       "8"
      ]
     },
     "execution_count": 126,
     "metadata": {},
     "output_type": "execute_result"
    }
   ],
   "execution_count": 126
  },
  {
   "metadata": {
    "ExecuteTime": {
     "end_time": "2024-11-27T15:40:34.774296Z",
     "start_time": "2024-11-27T15:40:34.762308Z"
    }
   },
   "cell_type": "code",
   "source": "counts_non_CAR.value_counts().index[3]",
   "id": "b7c3c8e09111b919",
   "outputs": [
    {
     "data": {
      "text/plain": [
       "['NHK_reaction']"
      ]
     },
     "execution_count": 127,
     "metadata": {},
     "output_type": "execute_result"
    }
   ],
   "execution_count": 127
  },
  {
   "metadata": {
    "ExecuteTime": {
     "end_time": "2024-11-27T15:40:49.015212Z",
     "start_time": "2024-11-27T15:40:46.654300Z"
    }
   },
   "cell_type": "code",
   "source": [
    "# Check if each reaction in the row matches the most common reaction\n",
    "exact_rxn_routes = df_non_CAR[[f'route{i}_non_CAR' for i in range(5)]].apply(lambda x: [rxn == counts_non_CAR.value_counts().index[3] for rxn in x], axis=1)\n",
    "# number of rows with any True\n",
    "exact_rxn_routes.value_counts()"
   ],
   "id": "3257e92bec92ba78",
   "outputs": [
    {
     "data": {
      "text/plain": [
       "[False, False, False, False, False]    141\n",
       "[True, False, False, True, False]        4\n",
       "[False, False, True, False, True]        1\n",
       "[False, False, True, False, False]       1\n",
       "[True, False, True, True, True]          1\n",
       "[True, False, True, False, False]        1\n",
       "Name: count, dtype: int64"
      ]
     },
     "execution_count": 128,
     "metadata": {},
     "output_type": "execute_result"
    }
   ],
   "execution_count": 128
  },
  {
   "metadata": {
    "ExecuteTime": {
     "end_time": "2024-11-27T15:40:54.562138Z",
     "start_time": "2024-11-27T15:40:54.559452Z"
    }
   },
   "cell_type": "code",
   "source": "149-141",
   "id": "cd851ee83d882079",
   "outputs": [
    {
     "data": {
      "text/plain": [
       "8"
      ]
     },
     "execution_count": 129,
     "metadata": {},
     "output_type": "execute_result"
    }
   ],
   "execution_count": 129
  },
  {
   "metadata": {
    "ExecuteTime": {
     "end_time": "2024-11-27T15:41:06.159116Z",
     "start_time": "2024-11-27T15:41:06.135924Z"
    }
   },
   "cell_type": "code",
   "source": "counts_non_CAR.value_counts().index[4]",
   "id": "72e007e4d340936f",
   "outputs": [
    {
     "data": {
      "text/plain": [
       "['Hydrogenation_of_pyridine']"
      ]
     },
     "execution_count": 130,
     "metadata": {},
     "output_type": "execute_result"
    }
   ],
   "execution_count": 130
  },
  {
   "metadata": {
    "ExecuteTime": {
     "end_time": "2024-11-27T15:41:16.763946Z",
     "start_time": "2024-11-27T15:41:14.394359Z"
    }
   },
   "cell_type": "code",
   "source": [
    "# Check if each reaction in the row matches the most common reaction\n",
    "exact_rxn_routes = df_non_CAR[[f'route{i}_non_CAR' for i in range(5)]].apply(lambda x: [rxn == counts_non_CAR.value_counts().index[4] for rxn in x], axis=1)\n",
    "# number of rows with any True\n",
    "exact_rxn_routes.value_counts()"
   ],
   "id": "c98e39e8ae83437f",
   "outputs": [
    {
     "data": {
      "text/plain": [
       "[False, False, False, False, False]    146\n",
       "[True, True, True, True, True]           3\n",
       "Name: count, dtype: int64"
      ]
     },
     "execution_count": 131,
     "metadata": {},
     "output_type": "execute_result"
    }
   ],
   "execution_count": 131
  },
  {
   "metadata": {
    "ExecuteTime": {
     "end_time": "2024-11-27T15:41:21.689191Z",
     "start_time": "2024-11-27T15:41:21.686722Z"
    }
   },
   "cell_type": "code",
   "source": "149-146",
   "id": "c31884121f8f7ccb",
   "outputs": [
    {
     "data": {
      "text/plain": [
       "3"
      ]
     },
     "execution_count": 132,
     "metadata": {},
     "output_type": "execute_result"
    }
   ],
   "execution_count": 132
  },
  {
   "metadata": {},
   "cell_type": "code",
   "outputs": [],
   "execution_count": null,
   "source": "",
   "id": "ad8e7b2045d220a0"
  }
 ],
 "metadata": {
  "kernelspec": {
   "display_name": "Python 3",
   "language": "python",
   "name": "python3"
  },
  "language_info": {
   "codemirror_mode": {
    "name": "ipython",
    "version": 2
   },
   "file_extension": ".py",
   "mimetype": "text/x-python",
   "name": "python",
   "nbconvert_exporter": "python",
   "pygments_lexer": "ipython2",
   "version": "2.7.6"
  }
 },
 "nbformat": 4,
 "nbformat_minor": 5
}
