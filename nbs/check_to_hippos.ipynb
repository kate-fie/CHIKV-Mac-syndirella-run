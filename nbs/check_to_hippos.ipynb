{
 "cells": [
  {
   "cell_type": "code",
   "id": "initial_id",
   "metadata": {
    "collapsed": true,
    "ExecuteTime": {
     "end_time": "2024-09-16T12:36:56.434545Z",
     "start_time": "2024-09-16T12:36:56.430886Z"
    }
   },
   "source": [
    "import pandas as pd\n",
    "from rdkit import Chem\n",
    "from rdkit.Chem import rdChemReactions\n",
    "import json"
   ],
   "outputs": [],
   "execution_count": 63
  },
  {
   "metadata": {
    "ExecuteTime": {
     "end_time": "2024-09-16T12:36:56.480473Z",
     "start_time": "2024-09-16T12:36:56.445618Z"
    }
   },
   "cell_type": "code",
   "source": [
    "df = pd.read_pickle('../IBNRYRKGRKRSMK-NSHDSACASA-N_fMJ6FM_to_hippo.pkl.gz')\n",
    "df"
   ],
   "id": "29089efc4bfea0da",
   "outputs": [
    {
     "data": {
      "text/plain": [
       "                                base_compound_smiles 1_reaction  \\\n",
       "0      NC(=O)N1CCN(C(=O)c2ccco2)C[C@H]1NC(=O)c1cscn1  Amidation   \n",
       "1      NC(=O)N1CCN(C(=O)c2ccco2)C[C@H]1NC(=O)c1cscn1  Amidation   \n",
       "2      NC(=O)N1CCN(C(=O)c2ccco2)C[C@H]1NC(=O)c1cscn1  Amidation   \n",
       "3      NC(=O)N1CCN(C(=O)c2ccco2)C[C@H]1NC(=O)c1cscn1  Amidation   \n",
       "4      NC(=O)N1CCN(C(=O)c2ccco2)C[C@H]1NC(=O)c1cscn1  Amidation   \n",
       "...                                              ...        ...   \n",
       "14113  NC(=O)N1CCN(C(=O)c2ccco2)C[C@H]1NC(=O)c1cscn1  Amidation   \n",
       "14114  NC(=O)N1CCN(C(=O)c2ccco2)C[C@H]1NC(=O)c1cscn1  Amidation   \n",
       "14115  NC(=O)N1CCN(C(=O)c2ccco2)C[C@H]1NC(=O)c1cscn1  Amidation   \n",
       "14116  NC(=O)N1CCN(C(=O)c2ccco2)C[C@H]1NC(=O)c1cscn1  Amidation   \n",
       "14117  NC(=O)N1CCN(C(=O)c2ccco2)C[C@H]1NC(=O)c1cscn1  Amidation   \n",
       "\n",
       "                       1_r1_smiles       1_r2_smiles 1_r_previous_product  \\\n",
       "0                    O=C(O)c1ccco1  NC(=O)N1CCNCC1Cl                 None   \n",
       "1                    O=C(O)c1ccco1  NC(=O)N1CCNCC1Cl                 None   \n",
       "2                    O=C(O)c1ccco1  NC(=O)N1CCNCC1Cl                 None   \n",
       "3                    O=C(O)c1ccco1  NC(=O)N1CCNCC1Cl                 None   \n",
       "4                    O=C(O)c1ccco1  NC(=O)N1CCNCC1Cl                 None   \n",
       "...                            ...               ...                  ...   \n",
       "14113           O=C(O)c1occc1C1CC1  NC(=O)N1CCNCC1Cl                 None   \n",
       "14114      O=C(O)c1oc(Cl)c(Cl)c1Cl  NC(=O)N1CCNCC1Cl                 None   \n",
       "14115      O=C(O)c1oc(Cl)c(Cl)c1Cl  NC(=O)N1CCNCC1Cl                 None   \n",
       "14116  O=C(O)c1ccc([N+](=O)[O-])o1  NC(=O)N1CCNCC1Cl                 None   \n",
       "14117  O=C(O)c1ccc([N+](=O)[O-])o1  NC(=O)N1CCNCC1Cl                 None   \n",
       "\n",
       "                                   1_product_smiles  \\\n",
       "0                    NC(=O)N1CCN(C(=O)c2ccco2)CC1Cl   \n",
       "1                    NC(=O)N1CCN(C(=O)c2ccco2)CC1Cl   \n",
       "2                    NC(=O)N1CCN(C(=O)c2ccco2)CC1Cl   \n",
       "3                    NC(=O)N1CCN(C(=O)c2ccco2)CC1Cl   \n",
       "4                    NC(=O)N1CCN(C(=O)c2ccco2)CC1Cl   \n",
       "...                                             ...   \n",
       "14113           NC(=O)N1CCN(C(=O)c2occc2C2CC2)CC1Cl   \n",
       "14114      NC(=O)N1CCN(C(=O)c2oc(Cl)c(Cl)c2Cl)CC1Cl   \n",
       "14115      NC(=O)N1CCN(C(=O)c2oc(Cl)c(Cl)c2Cl)CC1Cl   \n",
       "14116  NC(=O)N1CCN(C(=O)c2ccc([N+](=O)[O-])o2)CC1Cl   \n",
       "14117  NC(=O)N1CCN(C(=O)c2ccc([N+](=O)[O-])o2)CC1Cl   \n",
       "\n",
       "                              1_product_name 1_num_atom_diff 1_flag  \\\n",
       "0       IBNRYRKGRKRSMK-NSHDSACASA-N-fMJ6FM-0            None   None   \n",
       "1       IBNRYRKGRKRSMK-NSHDSACASA-N-fMJ6FM-0            None   None   \n",
       "2       IBNRYRKGRKRSMK-NSHDSACASA-N-fMJ6FM-0            None   None   \n",
       "3       IBNRYRKGRKRSMK-NSHDSACASA-N-fMJ6FM-0            None   None   \n",
       "4       IBNRYRKGRKRSMK-NSHDSACASA-N-fMJ6FM-0            None   None   \n",
       "...                                      ...             ...    ...   \n",
       "14113  IBNRYRKGRKRSMK-NSHDSACASA-N-fMJ6FM-81            None   None   \n",
       "14114  IBNRYRKGRKRSMK-NSHDSACASA-N-fMJ6FM-73            None   None   \n",
       "14115  IBNRYRKGRKRSMK-NSHDSACASA-N-fMJ6FM-73            None   None   \n",
       "14116  IBNRYRKGRKRSMK-NSHDSACASA-N-fMJ6FM-69            None   None   \n",
       "14117  IBNRYRKGRKRSMK-NSHDSACASA-N-fMJ6FM-69            None   None   \n",
       "\n",
       "                                 2_reaction  ... 4_flag 4_stereoisomer  error  \\\n",
       "0      Nucleophilic_substitution_with_amine  ...   None              A          \n",
       "1      Nucleophilic_substitution_with_amine  ...   None              B          \n",
       "2      Nucleophilic_substitution_with_amine  ...   None              A          \n",
       "3      Nucleophilic_substitution_with_amine  ...   None              B          \n",
       "4      Nucleophilic_substitution_with_amine  ...   None              A          \n",
       "...                                     ...  ...    ...            ...    ...   \n",
       "14113  Nucleophilic_substitution_with_amine  ...   None              B          \n",
       "14114  Nucleophilic_substitution_with_amine  ...   None              A          \n",
       "14115  Nucleophilic_substitution_with_amine  ...   None              B          \n",
       "14116  Nucleophilic_substitution_with_amine  ...   None              A          \n",
       "14117  Nucleophilic_substitution_with_amine  ...   None              B          \n",
       "\n",
       "             ∆∆G    ∆G_bound  ∆G_unbound   comRMSD  \\\n",
       "0     -39.942395  215.410711  255.353106  0.772884   \n",
       "1     -29.913452  228.881284  258.794736  0.911505   \n",
       "2     -39.942395  215.410711  255.353106  0.772884   \n",
       "3     -29.913452  228.881284  258.794736  0.911505   \n",
       "4     -39.942395  215.410711  255.353106  0.772884   \n",
       "...          ...         ...         ...       ...   \n",
       "14113 -79.192612  285.095321  364.287933  0.812545   \n",
       "14114 -44.449068  219.793181  264.242249  0.756745   \n",
       "14115 -45.511564  251.905129  297.416693  0.981668   \n",
       "14116 -74.386058  269.396037  343.782094  1.009182   \n",
       "14117 -50.069115  300.566486  350.635601  0.990499   \n",
       "\n",
       "                                                regarded  \\\n",
       "0      [CHIKV_MacB-x0543_A_304_CHIKV_MacB-x0300+A+401...   \n",
       "1      [CHIKV_MacB-x0543_A_304_CHIKV_MacB-x0300+A+401...   \n",
       "2      [CHIKV_MacB-x0543_A_304_CHIKV_MacB-x0300+A+401...   \n",
       "3      [CHIKV_MacB-x0543_A_304_CHIKV_MacB-x0300+A+401...   \n",
       "4      [CHIKV_MacB-x0543_A_304_CHIKV_MacB-x0300+A+401...   \n",
       "...                                                  ...   \n",
       "14113  [CHIKV_MacB-x0543_A_304_CHIKV_MacB-x0300+A+401...   \n",
       "14114  [CHIKV_MacB-x0543_A_304_CHIKV_MacB-x0300+A+401...   \n",
       "14115  [CHIKV_MacB-x0543_A_304_CHIKV_MacB-x0300+A+401...   \n",
       "14116  [CHIKV_MacB-x0543_A_304_CHIKV_MacB-x0300+A+401...   \n",
       "14117  [CHIKV_MacB-x0543_A_304_CHIKV_MacB-x0300+A+401...   \n",
       "\n",
       "                                             path_to_mol intra_geometry_pass  \n",
       "0      /opt/xchem-fragalysis-2/kfieseler/CHIKV-Mac//I...                True  \n",
       "1      /opt/xchem-fragalysis-2/kfieseler/CHIKV-Mac//I...                True  \n",
       "2      /opt/xchem-fragalysis-2/kfieseler/CHIKV-Mac//I...                True  \n",
       "3      /opt/xchem-fragalysis-2/kfieseler/CHIKV-Mac//I...                True  \n",
       "4      /opt/xchem-fragalysis-2/kfieseler/CHIKV-Mac//I...                True  \n",
       "...                                                  ...                 ...  \n",
       "14113  /opt/xchem-fragalysis-2/kfieseler/CHIKV-Mac//I...                True  \n",
       "14114  /opt/xchem-fragalysis-2/kfieseler/CHIKV-Mac//I...                True  \n",
       "14115  /opt/xchem-fragalysis-2/kfieseler/CHIKV-Mac//I...                True  \n",
       "14116  /opt/xchem-fragalysis-2/kfieseler/CHIKV-Mac//I...                True  \n",
       "14117  /opt/xchem-fragalysis-2/kfieseler/CHIKV-Mac//I...                True  \n",
       "\n",
       "[14118 rows x 42 columns]"
      ],
      "text/html": [
       "<div>\n",
       "<style scoped>\n",
       "    .dataframe tbody tr th:only-of-type {\n",
       "        vertical-align: middle;\n",
       "    }\n",
       "\n",
       "    .dataframe tbody tr th {\n",
       "        vertical-align: top;\n",
       "    }\n",
       "\n",
       "    .dataframe thead th {\n",
       "        text-align: right;\n",
       "    }\n",
       "</style>\n",
       "<table border=\"1\" class=\"dataframe\">\n",
       "  <thead>\n",
       "    <tr style=\"text-align: right;\">\n",
       "      <th></th>\n",
       "      <th>base_compound_smiles</th>\n",
       "      <th>1_reaction</th>\n",
       "      <th>1_r1_smiles</th>\n",
       "      <th>1_r2_smiles</th>\n",
       "      <th>1_r_previous_product</th>\n",
       "      <th>1_product_smiles</th>\n",
       "      <th>1_product_name</th>\n",
       "      <th>1_num_atom_diff</th>\n",
       "      <th>1_flag</th>\n",
       "      <th>2_reaction</th>\n",
       "      <th>...</th>\n",
       "      <th>4_flag</th>\n",
       "      <th>4_stereoisomer</th>\n",
       "      <th>error</th>\n",
       "      <th>∆∆G</th>\n",
       "      <th>∆G_bound</th>\n",
       "      <th>∆G_unbound</th>\n",
       "      <th>comRMSD</th>\n",
       "      <th>regarded</th>\n",
       "      <th>path_to_mol</th>\n",
       "      <th>intra_geometry_pass</th>\n",
       "    </tr>\n",
       "  </thead>\n",
       "  <tbody>\n",
       "    <tr>\n",
       "      <th>0</th>\n",
       "      <td>NC(=O)N1CCN(C(=O)c2ccco2)C[C@H]1NC(=O)c1cscn1</td>\n",
       "      <td>Amidation</td>\n",
       "      <td>O=C(O)c1ccco1</td>\n",
       "      <td>NC(=O)N1CCNCC1Cl</td>\n",
       "      <td>None</td>\n",
       "      <td>NC(=O)N1CCN(C(=O)c2ccco2)CC1Cl</td>\n",
       "      <td>IBNRYRKGRKRSMK-NSHDSACASA-N-fMJ6FM-0</td>\n",
       "      <td>None</td>\n",
       "      <td>None</td>\n",
       "      <td>Nucleophilic_substitution_with_amine</td>\n",
       "      <td>...</td>\n",
       "      <td>None</td>\n",
       "      <td>A</td>\n",
       "      <td></td>\n",
       "      <td>-39.942395</td>\n",
       "      <td>215.410711</td>\n",
       "      <td>255.353106</td>\n",
       "      <td>0.772884</td>\n",
       "      <td>[CHIKV_MacB-x0543_A_304_CHIKV_MacB-x0300+A+401...</td>\n",
       "      <td>/opt/xchem-fragalysis-2/kfieseler/CHIKV-Mac//I...</td>\n",
       "      <td>True</td>\n",
       "    </tr>\n",
       "    <tr>\n",
       "      <th>1</th>\n",
       "      <td>NC(=O)N1CCN(C(=O)c2ccco2)C[C@H]1NC(=O)c1cscn1</td>\n",
       "      <td>Amidation</td>\n",
       "      <td>O=C(O)c1ccco1</td>\n",
       "      <td>NC(=O)N1CCNCC1Cl</td>\n",
       "      <td>None</td>\n",
       "      <td>NC(=O)N1CCN(C(=O)c2ccco2)CC1Cl</td>\n",
       "      <td>IBNRYRKGRKRSMK-NSHDSACASA-N-fMJ6FM-0</td>\n",
       "      <td>None</td>\n",
       "      <td>None</td>\n",
       "      <td>Nucleophilic_substitution_with_amine</td>\n",
       "      <td>...</td>\n",
       "      <td>None</td>\n",
       "      <td>B</td>\n",
       "      <td></td>\n",
       "      <td>-29.913452</td>\n",
       "      <td>228.881284</td>\n",
       "      <td>258.794736</td>\n",
       "      <td>0.911505</td>\n",
       "      <td>[CHIKV_MacB-x0543_A_304_CHIKV_MacB-x0300+A+401...</td>\n",
       "      <td>/opt/xchem-fragalysis-2/kfieseler/CHIKV-Mac//I...</td>\n",
       "      <td>True</td>\n",
       "    </tr>\n",
       "    <tr>\n",
       "      <th>2</th>\n",
       "      <td>NC(=O)N1CCN(C(=O)c2ccco2)C[C@H]1NC(=O)c1cscn1</td>\n",
       "      <td>Amidation</td>\n",
       "      <td>O=C(O)c1ccco1</td>\n",
       "      <td>NC(=O)N1CCNCC1Cl</td>\n",
       "      <td>None</td>\n",
       "      <td>NC(=O)N1CCN(C(=O)c2ccco2)CC1Cl</td>\n",
       "      <td>IBNRYRKGRKRSMK-NSHDSACASA-N-fMJ6FM-0</td>\n",
       "      <td>None</td>\n",
       "      <td>None</td>\n",
       "      <td>Nucleophilic_substitution_with_amine</td>\n",
       "      <td>...</td>\n",
       "      <td>None</td>\n",
       "      <td>A</td>\n",
       "      <td></td>\n",
       "      <td>-39.942395</td>\n",
       "      <td>215.410711</td>\n",
       "      <td>255.353106</td>\n",
       "      <td>0.772884</td>\n",
       "      <td>[CHIKV_MacB-x0543_A_304_CHIKV_MacB-x0300+A+401...</td>\n",
       "      <td>/opt/xchem-fragalysis-2/kfieseler/CHIKV-Mac//I...</td>\n",
       "      <td>True</td>\n",
       "    </tr>\n",
       "    <tr>\n",
       "      <th>3</th>\n",
       "      <td>NC(=O)N1CCN(C(=O)c2ccco2)C[C@H]1NC(=O)c1cscn1</td>\n",
       "      <td>Amidation</td>\n",
       "      <td>O=C(O)c1ccco1</td>\n",
       "      <td>NC(=O)N1CCNCC1Cl</td>\n",
       "      <td>None</td>\n",
       "      <td>NC(=O)N1CCN(C(=O)c2ccco2)CC1Cl</td>\n",
       "      <td>IBNRYRKGRKRSMK-NSHDSACASA-N-fMJ6FM-0</td>\n",
       "      <td>None</td>\n",
       "      <td>None</td>\n",
       "      <td>Nucleophilic_substitution_with_amine</td>\n",
       "      <td>...</td>\n",
       "      <td>None</td>\n",
       "      <td>B</td>\n",
       "      <td></td>\n",
       "      <td>-29.913452</td>\n",
       "      <td>228.881284</td>\n",
       "      <td>258.794736</td>\n",
       "      <td>0.911505</td>\n",
       "      <td>[CHIKV_MacB-x0543_A_304_CHIKV_MacB-x0300+A+401...</td>\n",
       "      <td>/opt/xchem-fragalysis-2/kfieseler/CHIKV-Mac//I...</td>\n",
       "      <td>True</td>\n",
       "    </tr>\n",
       "    <tr>\n",
       "      <th>4</th>\n",
       "      <td>NC(=O)N1CCN(C(=O)c2ccco2)C[C@H]1NC(=O)c1cscn1</td>\n",
       "      <td>Amidation</td>\n",
       "      <td>O=C(O)c1ccco1</td>\n",
       "      <td>NC(=O)N1CCNCC1Cl</td>\n",
       "      <td>None</td>\n",
       "      <td>NC(=O)N1CCN(C(=O)c2ccco2)CC1Cl</td>\n",
       "      <td>IBNRYRKGRKRSMK-NSHDSACASA-N-fMJ6FM-0</td>\n",
       "      <td>None</td>\n",
       "      <td>None</td>\n",
       "      <td>Nucleophilic_substitution_with_amine</td>\n",
       "      <td>...</td>\n",
       "      <td>None</td>\n",
       "      <td>A</td>\n",
       "      <td></td>\n",
       "      <td>-39.942395</td>\n",
       "      <td>215.410711</td>\n",
       "      <td>255.353106</td>\n",
       "      <td>0.772884</td>\n",
       "      <td>[CHIKV_MacB-x0543_A_304_CHIKV_MacB-x0300+A+401...</td>\n",
       "      <td>/opt/xchem-fragalysis-2/kfieseler/CHIKV-Mac//I...</td>\n",
       "      <td>True</td>\n",
       "    </tr>\n",
       "    <tr>\n",
       "      <th>...</th>\n",
       "      <td>...</td>\n",
       "      <td>...</td>\n",
       "      <td>...</td>\n",
       "      <td>...</td>\n",
       "      <td>...</td>\n",
       "      <td>...</td>\n",
       "      <td>...</td>\n",
       "      <td>...</td>\n",
       "      <td>...</td>\n",
       "      <td>...</td>\n",
       "      <td>...</td>\n",
       "      <td>...</td>\n",
       "      <td>...</td>\n",
       "      <td>...</td>\n",
       "      <td>...</td>\n",
       "      <td>...</td>\n",
       "      <td>...</td>\n",
       "      <td>...</td>\n",
       "      <td>...</td>\n",
       "      <td>...</td>\n",
       "      <td>...</td>\n",
       "    </tr>\n",
       "    <tr>\n",
       "      <th>14113</th>\n",
       "      <td>NC(=O)N1CCN(C(=O)c2ccco2)C[C@H]1NC(=O)c1cscn1</td>\n",
       "      <td>Amidation</td>\n",
       "      <td>O=C(O)c1occc1C1CC1</td>\n",
       "      <td>NC(=O)N1CCNCC1Cl</td>\n",
       "      <td>None</td>\n",
       "      <td>NC(=O)N1CCN(C(=O)c2occc2C2CC2)CC1Cl</td>\n",
       "      <td>IBNRYRKGRKRSMK-NSHDSACASA-N-fMJ6FM-81</td>\n",
       "      <td>None</td>\n",
       "      <td>None</td>\n",
       "      <td>Nucleophilic_substitution_with_amine</td>\n",
       "      <td>...</td>\n",
       "      <td>None</td>\n",
       "      <td>B</td>\n",
       "      <td></td>\n",
       "      <td>-79.192612</td>\n",
       "      <td>285.095321</td>\n",
       "      <td>364.287933</td>\n",
       "      <td>0.812545</td>\n",
       "      <td>[CHIKV_MacB-x0543_A_304_CHIKV_MacB-x0300+A+401...</td>\n",
       "      <td>/opt/xchem-fragalysis-2/kfieseler/CHIKV-Mac//I...</td>\n",
       "      <td>True</td>\n",
       "    </tr>\n",
       "    <tr>\n",
       "      <th>14114</th>\n",
       "      <td>NC(=O)N1CCN(C(=O)c2ccco2)C[C@H]1NC(=O)c1cscn1</td>\n",
       "      <td>Amidation</td>\n",
       "      <td>O=C(O)c1oc(Cl)c(Cl)c1Cl</td>\n",
       "      <td>NC(=O)N1CCNCC1Cl</td>\n",
       "      <td>None</td>\n",
       "      <td>NC(=O)N1CCN(C(=O)c2oc(Cl)c(Cl)c2Cl)CC1Cl</td>\n",
       "      <td>IBNRYRKGRKRSMK-NSHDSACASA-N-fMJ6FM-73</td>\n",
       "      <td>None</td>\n",
       "      <td>None</td>\n",
       "      <td>Nucleophilic_substitution_with_amine</td>\n",
       "      <td>...</td>\n",
       "      <td>None</td>\n",
       "      <td>A</td>\n",
       "      <td></td>\n",
       "      <td>-44.449068</td>\n",
       "      <td>219.793181</td>\n",
       "      <td>264.242249</td>\n",
       "      <td>0.756745</td>\n",
       "      <td>[CHIKV_MacB-x0543_A_304_CHIKV_MacB-x0300+A+401...</td>\n",
       "      <td>/opt/xchem-fragalysis-2/kfieseler/CHIKV-Mac//I...</td>\n",
       "      <td>True</td>\n",
       "    </tr>\n",
       "    <tr>\n",
       "      <th>14115</th>\n",
       "      <td>NC(=O)N1CCN(C(=O)c2ccco2)C[C@H]1NC(=O)c1cscn1</td>\n",
       "      <td>Amidation</td>\n",
       "      <td>O=C(O)c1oc(Cl)c(Cl)c1Cl</td>\n",
       "      <td>NC(=O)N1CCNCC1Cl</td>\n",
       "      <td>None</td>\n",
       "      <td>NC(=O)N1CCN(C(=O)c2oc(Cl)c(Cl)c2Cl)CC1Cl</td>\n",
       "      <td>IBNRYRKGRKRSMK-NSHDSACASA-N-fMJ6FM-73</td>\n",
       "      <td>None</td>\n",
       "      <td>None</td>\n",
       "      <td>Nucleophilic_substitution_with_amine</td>\n",
       "      <td>...</td>\n",
       "      <td>None</td>\n",
       "      <td>B</td>\n",
       "      <td></td>\n",
       "      <td>-45.511564</td>\n",
       "      <td>251.905129</td>\n",
       "      <td>297.416693</td>\n",
       "      <td>0.981668</td>\n",
       "      <td>[CHIKV_MacB-x0543_A_304_CHIKV_MacB-x0300+A+401...</td>\n",
       "      <td>/opt/xchem-fragalysis-2/kfieseler/CHIKV-Mac//I...</td>\n",
       "      <td>True</td>\n",
       "    </tr>\n",
       "    <tr>\n",
       "      <th>14116</th>\n",
       "      <td>NC(=O)N1CCN(C(=O)c2ccco2)C[C@H]1NC(=O)c1cscn1</td>\n",
       "      <td>Amidation</td>\n",
       "      <td>O=C(O)c1ccc([N+](=O)[O-])o1</td>\n",
       "      <td>NC(=O)N1CCNCC1Cl</td>\n",
       "      <td>None</td>\n",
       "      <td>NC(=O)N1CCN(C(=O)c2ccc([N+](=O)[O-])o2)CC1Cl</td>\n",
       "      <td>IBNRYRKGRKRSMK-NSHDSACASA-N-fMJ6FM-69</td>\n",
       "      <td>None</td>\n",
       "      <td>None</td>\n",
       "      <td>Nucleophilic_substitution_with_amine</td>\n",
       "      <td>...</td>\n",
       "      <td>None</td>\n",
       "      <td>A</td>\n",
       "      <td></td>\n",
       "      <td>-74.386058</td>\n",
       "      <td>269.396037</td>\n",
       "      <td>343.782094</td>\n",
       "      <td>1.009182</td>\n",
       "      <td>[CHIKV_MacB-x0543_A_304_CHIKV_MacB-x0300+A+401...</td>\n",
       "      <td>/opt/xchem-fragalysis-2/kfieseler/CHIKV-Mac//I...</td>\n",
       "      <td>True</td>\n",
       "    </tr>\n",
       "    <tr>\n",
       "      <th>14117</th>\n",
       "      <td>NC(=O)N1CCN(C(=O)c2ccco2)C[C@H]1NC(=O)c1cscn1</td>\n",
       "      <td>Amidation</td>\n",
       "      <td>O=C(O)c1ccc([N+](=O)[O-])o1</td>\n",
       "      <td>NC(=O)N1CCNCC1Cl</td>\n",
       "      <td>None</td>\n",
       "      <td>NC(=O)N1CCN(C(=O)c2ccc([N+](=O)[O-])o2)CC1Cl</td>\n",
       "      <td>IBNRYRKGRKRSMK-NSHDSACASA-N-fMJ6FM-69</td>\n",
       "      <td>None</td>\n",
       "      <td>None</td>\n",
       "      <td>Nucleophilic_substitution_with_amine</td>\n",
       "      <td>...</td>\n",
       "      <td>None</td>\n",
       "      <td>B</td>\n",
       "      <td></td>\n",
       "      <td>-50.069115</td>\n",
       "      <td>300.566486</td>\n",
       "      <td>350.635601</td>\n",
       "      <td>0.990499</td>\n",
       "      <td>[CHIKV_MacB-x0543_A_304_CHIKV_MacB-x0300+A+401...</td>\n",
       "      <td>/opt/xchem-fragalysis-2/kfieseler/CHIKV-Mac//I...</td>\n",
       "      <td>True</td>\n",
       "    </tr>\n",
       "  </tbody>\n",
       "</table>\n",
       "<p>14118 rows × 42 columns</p>\n",
       "</div>"
      ]
     },
     "execution_count": 64,
     "metadata": {},
     "output_type": "execute_result"
    }
   ],
   "execution_count": 64
  },
  {
   "metadata": {
    "ExecuteTime": {
     "end_time": "2024-09-16T12:36:56.514380Z",
     "start_time": "2024-09-16T12:36:56.508838Z"
    }
   },
   "cell_type": "code",
   "source": "Chem.MolFromSmiles(df.loc[0]['1_product_smiles'])",
   "id": "9d01860e22b40e47",
   "outputs": [
    {
     "data": {
      "text/plain": [
       "<rdkit.Chem.rdchem.Mol at 0x1473f8c10>"
      ],
      "image/png": "[encoded data removed]"
     },
     "execution_count": 65,
     "metadata": {},
     "output_type": "execute_result"
    }
   ],
   "execution_count": 65
  },
  {
   "metadata": {
    "ExecuteTime": {
     "end_time": "2024-09-16T12:36:56.546399Z",
     "start_time": "2024-09-16T12:36:56.540146Z"
    }
   },
   "cell_type": "code",
   "source": "Chem.MolFromSmiles(df.loc[0]['2_product_smiles'])",
   "id": "98bf0bce2661fb94",
   "outputs": [
    {
     "data": {
      "text/plain": [
       "<rdkit.Chem.rdchem.Mol at 0x1473f9150>"
      ],
      "image/png": "[encoded data removed]"
     },
     "execution_count": 66,
     "metadata": {},
     "output_type": "execute_result"
    }
   ],
   "execution_count": 66
  },
  {
   "metadata": {
    "ExecuteTime": {
     "end_time": "2024-09-16T12:36:56.573163Z",
     "start_time": "2024-09-16T12:36:56.567870Z"
    }
   },
   "cell_type": "code",
   "source": "Chem.MolFromSmiles(df.loc[0]['3_product_smiles'])",
   "id": "56aa4a0ee2b0cff3",
   "outputs": [
    {
     "data": {
      "text/plain": [
       "<rdkit.Chem.rdchem.Mol at 0x1473f90e0>"
      ],
      "image/png": "[encoded data removed]"
     },
     "execution_count": 67,
     "metadata": {},
     "output_type": "execute_result"
    }
   ],
   "execution_count": 67
  },
  {
   "metadata": {
    "ExecuteTime": {
     "end_time": "2024-09-16T12:36:56.613827Z",
     "start_time": "2024-09-16T12:36:56.608442Z"
    }
   },
   "cell_type": "code",
   "source": "Chem.MolFromSmiles(df.loc[0]['4_r1_smiles'])",
   "id": "f33ce7519341d972",
   "outputs": [
    {
     "data": {
      "text/plain": [
       "<rdkit.Chem.rdchem.Mol at 0x1473f9230>"
      ],
      "image/png": "[encoded data removed]"
     },
     "execution_count": 68,
     "metadata": {},
     "output_type": "execute_result"
    }
   ],
   "execution_count": 68
  },
  {
   "metadata": {
    "ExecuteTime": {
     "end_time": "2024-09-16T12:36:56.630021Z",
     "start_time": "2024-09-16T12:36:56.624527Z"
    }
   },
   "cell_type": "code",
   "source": "Chem.MolFromSmiles(df.loc[0]['4_r2_smiles'])",
   "id": "fdfe01323c80ba22",
   "outputs": [
    {
     "data": {
      "text/plain": [
       "<rdkit.Chem.rdchem.Mol at 0x1473f8890>"
      ],
      "image/png": "[encoded data removed]"
     },
     "execution_count": 69,
     "metadata": {},
     "output_type": "execute_result"
    }
   ],
   "execution_count": 69
  },
  {
   "metadata": {
    "ExecuteTime": {
     "end_time": "2024-09-16T12:36:56.645423Z",
     "start_time": "2024-09-16T12:36:56.640123Z"
    }
   },
   "cell_type": "code",
   "source": "Chem.MolFromSmiles(df.loc[0]['4_product_smiles'])",
   "id": "b8160a12c7ac5bbd",
   "outputs": [
    {
     "data": {
      "text/plain": [
       "<rdkit.Chem.rdchem.Mol at 0x1473f8dd0>"
      ],
      "image/png": "[encoded data removed]"
     },
     "execution_count": 70,
     "metadata": {},
     "output_type": "execute_result"
    }
   ],
   "execution_count": 70
  },
  {
   "metadata": {
    "ExecuteTime": {
     "end_time": "2024-09-16T12:36:56.661056Z",
     "start_time": "2024-09-16T12:36:56.655489Z"
    }
   },
   "cell_type": "code",
   "source": "Chem.MolFromSmiles(df.loc[0]['base_compound_smiles'])",
   "id": "337a1170e6a27de1",
   "outputs": [
    {
     "data": {
      "text/plain": [
       "<rdkit.Chem.rdchem.Mol at 0x1473f8d60>"
      ],
      "image/png": "[encoded data removed]"
     },
     "execution_count": 71,
     "metadata": {},
     "output_type": "execute_result"
    }
   ],
   "execution_count": 71
  },
  {
   "metadata": {
    "ExecuteTime": {
     "end_time": "2024-09-16T12:36:56.677457Z",
     "start_time": "2024-09-16T12:36:56.671500Z"
    }
   },
   "cell_type": "code",
   "source": "Chem.MolFromSmiles(df.loc[14115]['4_product_smiles'])",
   "id": "23f7a32d622cc640",
   "outputs": [
    {
     "data": {
      "text/plain": [
       "<rdkit.Chem.rdchem.Mol at 0x1473f8b30>"
      ],
      "image/png": "[encoded data removed]"
     },
     "execution_count": 72,
     "metadata": {},
     "output_type": "execute_result"
    }
   ],
   "execution_count": 72
  },
  {
   "metadata": {
    "ExecuteTime": {
     "end_time": "2024-09-16T12:37:22.400806Z",
     "start_time": "2024-09-16T12:37:22.396872Z"
    }
   },
   "cell_type": "code",
   "source": [
    "# try to load reaction and look at products\n",
    "with open('/Users/kate_fieseler/PycharmProjects/syndirella/syndirella/constants/RXN_SMARTS_CONSTANTS.json') as f:\n",
    "    reactions = json.load(f)\n",
    "rxn_smarts = reactions['Amide_Schotten-Baumann_with_amine']\n",
    "mol1 = Chem.MolFromSmiles(df.loc[0]['4_r1_smiles'])\n",
    "mol2 = Chem.MolFromSmiles(df.loc[0]['4_r2_smiles'])\n",
    "# load reaction\n",
    "rxn = rdChemReactions.ReactionFromSmarts(rxn_smarts)\n",
    "ps = rxn.RunReactants((mol1, mol2))\n",
    "ps"
   ],
   "id": "3c967d936a33429a",
   "outputs": [
    {
     "data": {
      "text/plain": [
       "((<rdkit.Chem.rdchem.Mol at 0x146c7f610>,),)"
      ]
     },
     "execution_count": 77,
     "metadata": {},
     "output_type": "execute_result"
    }
   ],
   "execution_count": 77
  },
  {
   "metadata": {
    "ExecuteTime": {
     "end_time": "2024-09-16T12:36:56.706911Z",
     "start_time": "2024-09-16T12:36:56.704939Z"
    }
   },
   "cell_type": "code",
   "source": "rxn_smarts",
   "id": "96b6e309df9835b0",
   "outputs": [
    {
     "data": {
      "text/plain": [
       "'[#6:2][#6X3;!$(C-N):1](=[OX1:3])[#17,#9,#35].[$([N+0&H1,N+0&H2]);!$(NC=*);!$(NS);!$(N=*);!$(N-O);!$(N-o):4]>>[#6:2]-[#6:1](=[OX1:3])-[#7:4]'"
      ]
     },
     "execution_count": 74,
     "metadata": {},
     "output_type": "execute_result"
    }
   ],
   "execution_count": 74
  },
  {
   "metadata": {
    "ExecuteTime": {
     "end_time": "2024-09-16T12:36:56.779982Z",
     "start_time": "2024-09-16T12:36:56.774567Z"
    }
   },
   "cell_type": "code",
   "source": "mol1",
   "id": "3f857a1e57d2b8a4",
   "outputs": [
    {
     "data": {
      "text/plain": [
       "<rdkit.Chem.rdchem.Mol at 0x1471ad540>"
      ],
      "image/png": "[encoded data removed]"
     },
     "execution_count": 75,
     "metadata": {},
     "output_type": "execute_result"
    }
   ],
   "execution_count": 75
  },
  {
   "metadata": {
    "ExecuteTime": {
     "end_time": "2024-09-16T12:36:56.796943Z",
     "start_time": "2024-09-16T12:36:56.791486Z"
    }
   },
   "cell_type": "code",
   "source": "mol2",
   "id": "4fccc1b1b44a214c",
   "outputs": [
    {
     "data": {
      "text/plain": [
       "<rdkit.Chem.rdchem.Mol at 0x1471ac890>"
      ],
      "image/png": "[encoded data removed]"
     },
     "execution_count": 76,
     "metadata": {},
     "output_type": "execute_result"
    }
   ],
   "execution_count": 76
  },
  {
   "metadata": {
    "ExecuteTime": {
     "end_time": "2024-09-16T12:52:54.438556Z",
     "start_time": "2024-09-16T12:52:54.433310Z"
    }
   },
   "cell_type": "code",
   "source": "df['4_product_name'].value_counts()",
   "id": "9e6144dfe05d6b28",
   "outputs": [
    {
     "data": {
      "text/plain": [
       "4_product_name\n",
       "IBNRYRKGRKRSMK-NSHDSACASA-N-fMJ6FM-192-B    34\n",
       "IBNRYRKGRKRSMK-NSHDSACASA-N-fMJ6FM-71-A     34\n",
       "IBNRYRKGRKRSMK-NSHDSACASA-N-fMJ6FM-65-B     34\n",
       "IBNRYRKGRKRSMK-NSHDSACASA-N-fMJ6FM-66-A     34\n",
       "IBNRYRKGRKRSMK-NSHDSACASA-N-fMJ6FM-66-B     34\n",
       "                                            ..\n",
       "IBNRYRKGRKRSMK-NSHDSACASA-N-fMJ6FM-245-B     5\n",
       "IBNRYRKGRKRSMK-NSHDSACASA-N-fMJ6FM-246-A     5\n",
       "IBNRYRKGRKRSMK-NSHDSACASA-N-fMJ6FM-246-B     5\n",
       "IBNRYRKGRKRSMK-NSHDSACASA-N-fMJ6FM-247-A     5\n",
       "IBNRYRKGRKRSMK-NSHDSACASA-N-fMJ6FM-247-B     5\n",
       "Name: count, Length: 770, dtype: int64"
      ]
     },
     "execution_count": 80,
     "metadata": {},
     "output_type": "execute_result"
    }
   ],
   "execution_count": 80
  },
  {
   "metadata": {},
   "cell_type": "code",
   "outputs": [],
   "execution_count": null,
   "source": "",
   "id": "d7cbdf1bd7316a69"
  }
 ],
 "metadata": {
  "kernelspec": {
   "display_name": "Python 3",
   "language": "python",
   "name": "python3"
  },
  "language_info": {
   "codemirror_mode": {
    "name": "ipython",
    "version": 2
   },
   "file_extension": ".py",
   "mimetype": "text/x-python",
   "name": "python",
   "nbconvert_exporter": "python",
   "pygments_lexer": "ipython2",
   "version": "2.7.6"
  }
 },
 "nbformat": 4,
 "nbformat_minor": 5
}
